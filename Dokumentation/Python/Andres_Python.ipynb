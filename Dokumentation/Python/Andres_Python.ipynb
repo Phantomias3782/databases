{
 "cells": [
  {
   "cell_type": "code",
   "execution_count": 14,
   "metadata": {},
   "outputs": [],
   "source": [
    "import psycopg2\n",
    "import pandas as pd"
   ]
  },
  {
   "cell_type": "code",
   "execution_count": 7,
   "metadata": {},
   "outputs": [],
   "source": [
    "def connection(user, pwd, db, host = \"localhost\"):\n",
    "    \n",
    "    host = host\n",
    "    database = db\n",
    "    user = user\n",
    "    password = pwd\n",
    "    \n",
    "    conn = psycopg2.connect(host = host, database = db, user = user, password = password)\n",
    "    return conn"
   ]
  },
  {
   "cell_type": "code",
   "execution_count": 59,
   "metadata": {},
   "outputs": [],
   "source": [
    "def get_data_as_df(table, conn):\n",
    "    \n",
    "    data = pd.read_sql(f\"SELECT * FROM {table}\", conn)\n",
    "    \n",
    "    return data"
   ]
  },
  {
   "cell_type": "code",
   "execution_count": 60,
   "metadata": {},
   "outputs": [],
   "source": [
    "conn = connection(\"andreas\", \"Phantomias3782\", \"StreamingService\")"
   ]
  },
  {
   "cell_type": "code",
   "execution_count": 61,
   "metadata": {},
   "outputs": [],
   "source": [
    "curr = conn.cursor()"
   ]
  },
  {
   "cell_type": "code",
   "execution_count": 62,
   "metadata": {},
   "outputs": [],
   "source": [
    "user = get_data_as_df('user_table', conn)"
   ]
  },
  {
   "cell_type": "code",
   "execution_count": 71,
   "metadata": {},
   "outputs": [],
   "source": [
    "# update value in db\n",
    "user.loc[user[\"f_name\"] == \"Marie\", \"city\"] = \"Las Vegas\""
   ]
  },
  {
   "cell_type": "code",
   "execution_count": 72,
   "metadata": {},
   "outputs": [
    {
     "data": {
      "text/html": [
       "<div>\n",
       "<style scoped>\n",
       "    .dataframe tbody tr th:only-of-type {\n",
       "        vertical-align: middle;\n",
       "    }\n",
       "\n",
       "    .dataframe tbody tr th {\n",
       "        vertical-align: top;\n",
       "    }\n",
       "\n",
       "    .dataframe thead th {\n",
       "        text-align: right;\n",
       "    }\n",
       "</style>\n",
       "<table border=\"1\" class=\"dataframe\">\n",
       "  <thead>\n",
       "    <tr style=\"text-align: right;\">\n",
       "      <th></th>\n",
       "      <th>f_name</th>\n",
       "      <th>l_name</th>\n",
       "      <th>userid</th>\n",
       "      <th>zip_code</th>\n",
       "      <th>city</th>\n",
       "      <th>home_state</th>\n",
       "      <th>country</th>\n",
       "      <th>email</th>\n",
       "      <th>birthdate</th>\n",
       "      <th>abotype</th>\n",
       "      <th>bankaccount</th>\n",
       "    </tr>\n",
       "  </thead>\n",
       "  <tbody>\n",
       "    <tr>\n",
       "      <th>0</th>\n",
       "      <td>Marie</td>\n",
       "      <td>Sanders</td>\n",
       "      <td>1</td>\n",
       "      <td>1234</td>\n",
       "      <td>Las Vegas</td>\n",
       "      <td>Texas</td>\n",
       "      <td>U.S.A.</td>\n",
       "      <td>marie@sanders.com</td>\n",
       "      <td>1971-03-09</td>\n",
       "      <td>Test</td>\n",
       "      <td>5505 8765 9863</td>\n",
       "    </tr>\n",
       "    <tr>\n",
       "      <th>1</th>\n",
       "      <td>Jack</td>\n",
       "      <td>Rhino</td>\n",
       "      <td>2</td>\n",
       "      <td>5643</td>\n",
       "      <td>Huston</td>\n",
       "      <td>Nevada</td>\n",
       "      <td>U.S.A.</td>\n",
       "      <td>jack@rhino.net</td>\n",
       "      <td>1971-08-19</td>\n",
       "      <td>Normal</td>\n",
       "      <td>5505 0076 1233</td>\n",
       "    </tr>\n",
       "    <tr>\n",
       "      <th>2</th>\n",
       "      <td>Tony</td>\n",
       "      <td>Stark</td>\n",
       "      <td>3</td>\n",
       "      <td>7753</td>\n",
       "      <td>Paris</td>\n",
       "      <td>Ile de Paris</td>\n",
       "      <td>France</td>\n",
       "      <td>tony.stark@avengers.com</td>\n",
       "      <td>1991-11-22</td>\n",
       "      <td>Premium</td>\n",
       "      <td>1123 0854 6466</td>\n",
       "    </tr>\n",
       "  </tbody>\n",
       "</table>\n",
       "</div>"
      ],
      "text/plain": [
       "  f_name   l_name  userid  zip_code       city    home_state country  \\\n",
       "0  Marie  Sanders       1      1234  Las Vegas         Texas  U.S.A.   \n",
       "1   Jack    Rhino       2      5643     Huston        Nevada  U.S.A.   \n",
       "2   Tony    Stark       3      7753      Paris  Ile de Paris  France   \n",
       "\n",
       "                     email   birthdate  abotype     bankaccount  \n",
       "0        marie@sanders.com  1971-03-09     Test  5505 8765 9863  \n",
       "1           jack@rhino.net  1971-08-19   Normal  5505 0076 1233  \n",
       "2  tony.stark@avengers.com  1991-11-22  Premium  1123 0854 6466  "
      ]
     },
     "execution_count": 72,
     "metadata": {},
     "output_type": "execute_result"
    }
   ],
   "source": [
    "user"
   ]
  },
  {
   "cell_type": "code",
   "execution_count": 90,
   "metadata": {},
   "outputs": [],
   "source": [
    "updated_city = 'Wymonig'"
   ]
  },
  {
   "cell_type": "code",
   "execution_count": null,
   "metadata": {},
   "outputs": [],
   "source": [
    "set_city = "
   ]
  },
  {
   "cell_type": "code",
   "execution_count": 93,
   "metadata": {},
   "outputs": [],
   "source": [
    "sql = f'''\n",
    "    UPDATE users\n",
    "    SET city = {updated_city}\n",
    "    WHERE userid = 1\n",
    "'''"
   ]
  },
  {
   "cell_type": "code",
   "execution_count": 94,
   "metadata": {},
   "outputs": [
    {
     "ename": "InFailedSqlTransaction",
     "evalue": "current transaction is aborted, commands ignored until end of transaction block\n",
     "output_type": "error",
     "traceback": [
      "\u001b[0;31m---------------------------------------------------------------------------\u001b[0m",
      "\u001b[0;31mInFailedSqlTransaction\u001b[0m                    Traceback (most recent call last)",
      "\u001b[0;32m<ipython-input-94-d21e6eb288d9>\u001b[0m in \u001b[0;36m<module>\u001b[0;34m\u001b[0m\n\u001b[0;32m----> 1\u001b[0;31m \u001b[0mcurr\u001b[0m\u001b[0;34m.\u001b[0m\u001b[0mexecute\u001b[0m\u001b[0;34m(\u001b[0m\u001b[0msql\u001b[0m\u001b[0;34m,\u001b[0m \u001b[0;34m(\u001b[0m\u001b[0;34m'city'\u001b[0m\u001b[0;34m,\u001b[0m \u001b[0;34m'userid'\u001b[0m\u001b[0;34m)\u001b[0m\u001b[0;34m)\u001b[0m\u001b[0;34m\u001b[0m\u001b[0;34m\u001b[0m\u001b[0m\n\u001b[0m",
      "\u001b[0;31mInFailedSqlTransaction\u001b[0m: current transaction is aborted, commands ignored until end of transaction block\n"
     ]
    }
   ],
   "source": [
    "curr.execute(sql, ('city', 'userid'))"
   ]
  },
  {
   "cell_type": "code",
   "execution_count": null,
   "metadata": {},
   "outputs": [],
   "source": []
  }
 ],
 "metadata": {
  "kernelspec": {
   "display_name": "Python 3",
   "language": "python",
   "name": "python3"
  },
  "language_info": {
   "codemirror_mode": {
    "name": "ipython",
    "version": 3
   },
   "file_extension": ".py",
   "mimetype": "text/x-python",
   "name": "python",
   "nbconvert_exporter": "python",
   "pygments_lexer": "ipython3",
   "version": "3.7.1"
  }
 },
 "nbformat": 4,
 "nbformat_minor": 2
}

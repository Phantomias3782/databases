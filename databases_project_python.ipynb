{
 "cells": [
  {
   "cell_type": "code",
   "execution_count": 20,
   "metadata": {},
   "outputs": [
    {
     "name": "stdout",
     "output_type": "stream",
     "text": [
      "PostgreSQL connection is opened.\n",
      "[(1, 'Peter Dinklage', datetime.date(1975, 7, 11), None), (2, 'Sophie Turner', datetime.date(1981, 2, 22), None), (3, 'Emilia Clarke', datetime.date(1991, 7, 2), None)]\n"
     ]
    }
   ],
   "source": [
    "import psycopg2\n",
    "\n",
    "# connect to database\n",
    "\n",
    "def open_connection():\n",
    "    \"\"\" Connects to Database and returns cursor and connection. \"\"\"\n",
    "    \n",
    "    connection = psycopg2.connect(user = \"postgres\",\n",
    "                                  password = \"Daenerys1\",\n",
    "                                  host = \"127.0.0.1\",\n",
    "                                  port = \"5432\",\n",
    "                                  database = \"StreamingService\")\n",
    "    \n",
    "    cursor = connection.cursor()\n",
    "    \n",
    "    print(\"PostgreSQL connection is opened.\")\n",
    "    \n",
    "    return cursor, connection\n",
    "\n",
    "def close_connection(cursor, connection):\n",
    "    \"\"\" CLoses Database connection. \"\"\"\n",
    "    \n",
    "    cursor.close()\n",
    "    connection.close()\n",
    "    print(\"PostgreSQL connection is closed.\")\n",
    "\n",
    "cursor, connection = open_connection()\n",
    "\n"
   ]
  },
  {
   "cell_type": "code",
   "execution_count": null,
   "metadata": {},
   "outputs": [],
   "source": [
    "try:\n",
    "    connection = psycopg2.connect(user = \"postgres\",\n",
    "                                  password = \"Daenerys1\",\n",
    "                                  host = \"127.0.0.1\",\n",
    "                                  port = \"5432\",\n",
    "                                  database = \"StreamingService\")\n",
    "\n",
    "    cursor = connection.cursor()\n",
    "    # Print PostgreSQL Connection properties\n",
    "    print ( connection.get_dsn_parameters(),\"\\n\")\n",
    "\n",
    "    # Print PostgreSQL version\n",
    "    cursor.execute(\"SELECT version();\")\n",
    "    record = cursor.fetchone()\n",
    "    print(\"You are connected to - \", record,\"\\n\")\n",
    "\n",
    "except (Exception, psycopg2.Error) as error :\n",
    "    print (\"Error while connecting to PostgreSQL\", error)\n",
    "finally:\n",
    "    #closing database connection.\n",
    "        if(connection):\n",
    "            cursor.close()\n",
    "            connection.close()\n",
    "            print(\"PostgreSQL connection is closed\")"
   ]
  }
 ],
 "metadata": {
  "kernelspec": {
   "display_name": "Python 3",
   "language": "python",
   "name": "python3"
  },
  "language_info": {
   "codemirror_mode": {
    "name": "ipython",
    "version": 3
   },
   "file_extension": ".py",
   "mimetype": "text/x-python",
   "name": "python",
   "nbconvert_exporter": "python",
   "pygments_lexer": "ipython3",
   "version": "3.7.1"
  }
 },
 "nbformat": 4,
 "nbformat_minor": 2
}
